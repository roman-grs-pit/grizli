{
 "cells": [
  {
   "cell_type": "code",
   "execution_count": 1,
   "metadata": {},
   "outputs": [
    {
     "name": "stderr",
     "output_type": "stream",
     "text": [
      "/Users/keith/miniconda3/envs/grizli-env/lib/python3.12/site-packages/pysynphot/refs.py:117: UserWarning: No graph or component tables found; functionality will be SEVERELY crippled. No files found for /Users/keith/PYSYN_CDBS/mtab/*_tmg.fits\n",
      "  warnings.warn('No graph or component tables found; '\n",
      "/Users/keith/miniconda3/envs/grizli-env/lib/python3.12/site-packages/pysynphot/refs.py:124: UserWarning: No thermal tables found, no thermal calculations can be performed. No files found for /Users/keith/PYSYN_CDBS/mtab/*_tmt.fits\n",
      "  warnings.warn('No thermal tables found, '\n",
      "**WARNING**: LOCAL JWST PRD VERSION PRDOPSSOC-065 DOESN'T MATCH THE CURRENT ONLINE VERSION PRDOPSSOC-068\n",
      "Please consider updating pysiaf, e.g. pip install --upgrade pysiaf or conda update pysiaf\n"
     ]
    }
   ],
   "source": [
    "import matplotlib.pyplot as plt\n",
    "import numpy as np\n",
    "import wavelength_dependent_PSF_grism_sim as PSF_Grism\n",
    "\n",
    "from grizli.model import GrismFLT\n",
    "import os"
   ]
  },
  {
   "cell_type": "code",
   "execution_count": 2,
   "metadata": {},
   "outputs": [
    {
     "name": "stdout",
     "output_type": "stream",
     "text": [
      "\n",
      "\n",
      "Image cutout: x=slice(0, 4088, None), y=slice(0, 4088, None) [Out of range]\n",
      "/Users/keith/astr/research_astr/roman_grism_sim/ultra_smooth_lambda_dependent/fits/empty_direct.fits / Pad ref HDU with 464 pixels\n",
      "/Users/keith/astr/research_astr/roman_grism_sim/ultra_smooth_lambda_dependent/fits/empty_direct.fits / blot segmentation /Users/keith/astr/research_astr/roman_grism_sim/ultra_smooth_lambda_dependent/fits/empty_seg.fits[0]\n",
      "The following task in the stsci.skypac package can be run with TEAL:\n",
      "                                    skymatch                                    \n",
      "The following tasks in the drizzlepac package can be run with TEAL:\n",
      "    astrodrizzle       config_testbed      imagefindpars           mapreg       \n",
      "       photeq            pixreplace           pixtopix            pixtosky      \n",
      "  refimagefindpars       resetbits          runastrodriz          skytopix      \n",
      "     tweakback            tweakreg           updatenpol\n",
      "Using default C-based coordinate transformation...\n",
      "Using default C-based coordinate transformation...\n"
     ]
    },
    {
     "name": "stderr",
     "output_type": "stream",
     "text": [
      "Attempted to get aberrations at field point (0, 0) which is outside the range of the reference data; approximating to nearest interpolated point (0.0, 37.0)\n",
      "Attempted to get aberrations at field point (0, 0) which is outside the range of the reference data; approximating to nearest interpolated point (0.0, 37.0)\n",
      "Attempted to get aberrations at field point (0, 0) which is outside the range of the reference data; approximating to nearest interpolated point (0.0, 37.0)\n",
      "Attempted to get aberrations at field point (0, 0) which is outside the range of the reference data; approximating to nearest interpolated point (0.0, 37.0)\n",
      "Attempted to get aberrations at field point (0, 0) which is outside the range of the reference data; approximating to nearest interpolated point (0.0, 37.0)\n",
      "Attempted to get aberrations at field point (0, 0) which is outside the range of the reference data; approximating to nearest interpolated point (0.0, 37.0)\n",
      "Attempted to get aberrations at field point (0, 0) which is outside the range of the reference data; approximating to nearest interpolated point (0.0, 37.0)\n",
      "Attempted to get aberrations at field point (0, 0) which is outside the range of the reference data; approximating to nearest interpolated point (0.0, 37.0)\n",
      "Attempted to get aberrations at field point (0, 0) which is outside the range of the reference data; approximating to nearest interpolated point (0.0, 37.0)\n",
      "Attempted to get aberrations at field point (0, 0) which is outside the range of the reference data; approximating to nearest interpolated point (0.0, 37.0)\n",
      "Attempted to get aberrations at field point (0, 0) which is outside the range of the reference data; approximating to nearest interpolated point (0.0, 37.0)\n",
      "Attempted to get aberrations at field point (0, 0) which is outside the range of the reference data; approximating to nearest interpolated point (0.0, 37.0)\n",
      "Attempted to get aberrations at field point (0, 0) which is outside the range of the reference data; approximating to nearest interpolated point (0.0, 37.0)\n",
      "Attempted to get aberrations at field point (0, 0) which is outside the range of the reference data; approximating to nearest interpolated point (0.0, 37.0)\n",
      "Attempted to get aberrations at field point (0, 0) which is outside the range of the reference data; approximating to nearest interpolated point (0.0, 37.0)\n",
      "Attempted to get aberrations at field point (0, 0) which is outside the range of the reference data; approximating to nearest interpolated point (0.0, 37.0)\n",
      "Attempted to get aberrations at field point (0, 0) which is outside the range of the reference data; approximating to nearest interpolated point (0.0, 37.0)\n",
      "Attempted to get aberrations at field point (0, 0) which is outside the range of the reference data; approximating to nearest interpolated point (0.0, 37.0)\n",
      "Attempted to get aberrations at field point (0, 0) which is outside the range of the reference data; approximating to nearest interpolated point (0.0, 37.0)\n",
      "Attempted to get aberrations at field point (0, 0) which is outside the range of the reference data; approximating to nearest interpolated point (0.0, 37.0)\n"
     ]
    }
   ],
   "source": [
    "empty_fits_dir = \"/Users/keith/astr/research_astr/roman_grism_sim/ultra_smooth_lambda_dependent/fits\"\n",
    "spectrum_file = \"/Users/keith/astr/research_astr/FOV0/FOV0_SEDs/ukg0v.dat\"\n",
    "bandpass_file = \"/Users/keith/astr/research_astr/FOV0/FOV0_SEDs/wfirst_wfi_f158_001_syn.fits\"\n",
    "\n",
    "empty_direct = os.path.join(empty_fits_dir, \"empty_direct.fits\")\n",
    "empty_seg = os.path.join(empty_fits_dir, \"empty_seg.fits\")\n",
    "\n",
    "# Consider how to incorporate this later (considering the pad and placeholder variables)\n",
    "# roman = GrismFLT(direct_file=empty_direct, seg_file=empty_seg, pad=100)\n",
    "\n",
    "args = PSF_Grism.create_objects_for_disperse_function(empty_fits_dir=empty_fits_dir, \n",
    "                                                      spectrum_file=spectrum_file, \n",
    "                                                      bandpass_file=bandpass_file,\n",
    "                                                      detector_position=(0,0))\n",
    "\n",
    "\n",
    "roman_sim = PSF_Grism.disperse_one_star(**args)"
   ]
  },
  {
   "cell_type": "code",
   "execution_count": 3,
   "metadata": {},
   "outputs": [
    {
     "data": {
      "text/plain": [
       "<matplotlib.image.AxesImage at 0x398a3d400>"
      ]
     },
     "execution_count": 3,
     "metadata": {},
     "output_type": "execute_result"
    },
    {
     "data": {
      "image/png": "[encoded data removed]",
      "text/plain": [
       "<Figure size 640x480 with 1 Axes>"
      ]
     },
     "metadata": {},
     "output_type": "display_data"
    }
   ],
   "source": [
    "plt.imshow(np.log(roman_sim.model+1), origin=\"lower\", cmap=\"hot\", vmin=0, vmax=24)"
   ]
  },
  {
   "cell_type": "code",
   "execution_count": 4,
   "metadata": {},
   "outputs": [],
   "source": [
    "# test_full = np.zeros_like(list_of_dispersions[0])\n",
    "# for ii in range(len(list_of_dispersions)):\n",
    "#     test_full += list_of_dispersions[ii]\n",
    "# plt.imshow(test_full, origin='lower', cmap='hot')\n",
    "# plt.title(f\"Min: {test_full.min()}, Max: {test_full.max()}\")\n",
    "# plt.show()\n",
    "\n",
    "# diff = test_full - roman_sim.model\n",
    "# plt.imshow(diff, origin=\"lower\", cmap='hot')\n",
    "# plt.title(f\"Min: {diff.min()}, Max: {diff.max()}\")\n",
    "# plt.show()"
   ]
  },
  {
   "cell_type": "code",
   "execution_count": 5,
   "metadata": {},
   "outputs": [],
   "source": [
    "# for ii in range(len(list_of_dispersions)):\n",
    "#     plt.imshow(list_of_dispersions[ii][2000:2300, 1250:3000], origin=\"lower\", cmap=\"hot\")\n",
    "#     plt.title(f\"Min: {list_of_dispersions[ii].min()} ; Max: {list_of_dispersions[ii].max()}\")\n",
    "#     plt.show()"
   ]
  }
 ],
 "metadata": {
  "kernelspec": {
   "display_name": "grizli-env",
   "language": "python",
   "name": "python3"
  },
  "language_info": {
   "codemirror_mode": {
    "name": "ipython",
    "version": 3
   },
   "file_extension": ".py",
   "mimetype": "text/x-python",
   "name": "python",
   "nbconvert_exporter": "python",
   "pygments_lexer": "ipython3",
   "version": "3.12.3"
  }
 },
 "nbformat": 4,
 "nbformat_minor": 2
}
